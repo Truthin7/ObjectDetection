{
 "cells": [
  {
   "cell_type": "markdown",
   "metadata": {},
   "source": [
    "### 1. Explain three-dimensional data indexing ?"
   ]
  },
  {
   "cell_type": "code",
   "execution_count": 4,
   "metadata": {},
   "outputs": [
    {
     "data": {
      "text/plain": [
       "array([[[ 0,  1,  2,  3,  4],\n",
       "        [ 5,  6,  7,  8,  9],\n",
       "        [10, 11, 12, 13, 14]],\n",
       "\n",
       "       [[15, 16, 17, 18, 19],\n",
       "        [20, 21, 22, 23, 24],\n",
       "        [25, 26, 27, 28, 29]],\n",
       "\n",
       "       [[30, 31, 32, 33, 34],\n",
       "        [35, 36, 37, 38, 39],\n",
       "        [40, 41, 42, 43, 44]]])"
      ]
     },
     "execution_count": 4,
     "metadata": {},
     "output_type": "execute_result"
    }
   ],
   "source": [
    "# 3D Array Slicing And Indexing\n",
    "import numpy as np\n",
    "x = np.arange(45).reshape(3,3,5)\n",
    "x"
   ]
  },
  {
   "cell_type": "code",
   "execution_count": 5,
   "metadata": {},
   "outputs": [
    {
     "data": {
      "text/plain": [
       "array([[15, 16, 17, 18, 19],\n",
       "       [20, 21, 22, 23, 24],\n",
       "       [25, 26, 27, 28, 29]])"
      ]
     },
     "execution_count": 5,
     "metadata": {},
     "output_type": "execute_result"
    }
   ],
   "source": [
    "# Selecting the Two-Dimensional Arrays\n",
    "# Accessing each two dimensional arrays in it with simple indexing\n",
    "x[1]"
   ]
  },
  {
   "cell_type": "code",
   "execution_count": 6,
   "metadata": {},
   "outputs": [
    {
     "data": {
      "text/plain": [
       "array([5, 6, 7, 8, 9])"
      ]
     },
     "execution_count": 6,
     "metadata": {},
     "output_type": "execute_result"
    }
   ],
   "source": [
    "# Accessing the second row of first two-dimensional array\n",
    "x[0][1]"
   ]
  },
  {
   "cell_type": "code",
   "execution_count": 7,
   "metadata": {},
   "outputs": [
    {
     "data": {
      "text/plain": [
       "22"
      ]
     },
     "execution_count": 7,
     "metadata": {},
     "output_type": "execute_result"
    }
   ],
   "source": [
    "# Accessing the element 22 from the array\n",
    "x[1][1][2]"
   ]
  },
  {
   "cell_type": "code",
   "execution_count": 8,
   "metadata": {},
   "outputs": [
    {
     "data": {
      "text/plain": [
       "array([[15, 16, 17, 18, 19],\n",
       "       [30, 31, 32, 33, 34]])"
      ]
     },
     "execution_count": 8,
     "metadata": {},
     "output_type": "execute_result"
    }
   ],
   "source": [
    "# Returning the first rows of the last two two-dimensional array.\n",
    "x[1:,0]"
   ]
  },
  {
   "cell_type": "code",
   "execution_count": 10,
   "metadata": {},
   "outputs": [
    {
     "data": {
      "text/plain": [
       "array([[[16, 17, 18],\n",
       "        [21, 22, 23]],\n",
       "\n",
       "       [[31, 32, 33],\n",
       "        [36, 37, 38]]])"
      ]
     },
     "execution_count": 10,
     "metadata": {},
     "output_type": "execute_result"
    }
   ],
   "source": [
    "# Slicing through both columns and rows and printing part of first two rows of the last two two-dimensional arrays\n",
    "x[1:, 0:2, 1:4]"
   ]
  },
  {
   "cell_type": "markdown",
   "metadata": {},
   "source": [
    "### 2. What's the difference between a series and a dataframe ?"
   ]
  },
  {
   "cell_type": "markdown",
   "metadata": {},
   "source": [
    "Series can only contain single list with index (only one column), whereas dataframe can be made of more than one series or we can say that a dataframe is a collection of series (more than one column) that can be used to analyse the data."
   ]
  },
  {
   "cell_type": "code",
   "execution_count": 13,
   "metadata": {},
   "outputs": [
    {
     "name": "stdout",
     "output_type": "stream",
     "text": [
      "0         Krish\n",
      "1    Sourangshu\n",
      "2     Sudhanshu\n",
      "3        Avnish\n",
      "dtype: object\n",
      "<class 'pandas.core.series.Series'>\n"
     ]
    }
   ],
   "source": [
    "# Simple Series\n",
    "import pandas as pd\n",
    "  \n",
    "tutor = ['Krish', 'Sourangshu', 'Sudhanshu', 'Avnish']\n",
    "tutor_neuron = pd.Series(tutor)\n",
    "\n",
    "print(tutor_neuron)\n",
    "print(type(tutor_neuron))"
   ]
  },
  {
   "cell_type": "code",
   "execution_count": 15,
   "metadata": {},
   "outputs": [
    {
     "name": "stdout",
     "output_type": "stream",
     "text": [
      "        Tutor  Course\n",
      "0       Krish     210\n",
      "1  Sourangshu     211\n",
      "2   Sudhanshu     114\n",
      "3      Avnish     178\n"
     ]
    }
   ],
   "source": [
    "# Creating Dataframe from Series\n",
    "import pandas as pd\n",
    "\n",
    "tutor = ['Krish', 'Sourangshu', 'Sudhanshu', 'Avnish']\n",
    "course = [210, 211, 114, 178]\n",
    "\n",
    "tutor_neuron = pd.Series(tutor)\n",
    "course_series = pd.Series(course)\n",
    "\n",
    "frame = {'Tutor': tutor_neuron, 'Course': course_series}\n",
    "\n",
    "result = pd.DataFrame(frame)\n",
    "\n",
    "print(result)"
   ]
  },
  {
   "cell_type": "code",
   "execution_count": 16,
   "metadata": {},
   "outputs": [
    {
     "name": "stdout",
     "output_type": "stream",
     "text": [
      "        Tutor  Course  Duration_Months\n",
      "0       Krish     210                6\n",
      "1  Sourangshu     211                3\n",
      "2   Sudhanshu     114                9\n",
      "3      Avnish     178                2\n"
     ]
    }
   ],
   "source": [
    "# Adding series externally in dataframe\n",
    "import pandas as pd\n",
    "\n",
    "tutor = ['Krish', 'Sourangshu', 'Sudhanshu', 'Avnish']\n",
    "course = [210, 211, 114, 178]\n",
    "\n",
    "tutor_neuron = pd.Series(tutor)\n",
    "course_series = pd.Series(course)\n",
    "\n",
    "frame = {'Tutor': tutor_neuron, 'Course': course_series}\n",
    "\n",
    "result = pd.DataFrame(frame)\n",
    "duration = [6, 3, 9, 2]\n",
    "result['Duration_Months'] = pd.Series(duration)\n",
    "\n",
    "print(result)"
   ]
  },
  {
   "cell_type": "markdown",
   "metadata": {},
   "source": [
    "### 3. What role does pandas play in data cleaning ?"
   ]
  },
  {
   "cell_type": "markdown",
   "metadata": {},
   "source": [
    "### Pandas play a very crucial role in data cleaning process prior to exploratory data analysis.  "
   ]
  },
  {
   "cell_type": "markdown",
   "metadata": {},
   "source": [
    "### 1. Pandas - Cleaning Data means fixing bad and irrelevant data in our data set.\n",
    "1. Empty cells\n",
    "2. Data in wrong format\n",
    "3. Wrong data\n",
    "4. Duplicates"
   ]
  },
  {
   "cell_type": "markdown",
   "metadata": {},
   "source": [
    "### 2. Data cleaning is essential. It has several benefits to any Machine Learning Algorithm.\n",
    "1. Error-Free Data\n",
    "2. Data Quality\n",
    "3. Accuracy and Efficiency \n",
    "4. Complete Data\n",
    "5. Maintains Data Consistency                    "
   ]
  },
  {
   "cell_type": "markdown",
   "metadata": {},
   "source": [
    "### Data Cleaning Cycle"
   ]
  },
  {
   "cell_type": "markdown",
   "metadata": {},
   "source": [
    "### Pandas offer a diverse range of built-in functions that can be used to clean and manipulate datasets prior to analysis. It can allow you to drop incomplete rows and columns, fill missing (NaN) values and improve the readability of the dataset through category renaming."
   ]
  },
  {
   "cell_type": "code",
   "execution_count": 4,
   "metadata": {},
   "outputs": [
    {
     "name": "stdout",
     "output_type": "stream",
     "text": [
      "<class 'pandas.core.frame.DataFrame'>\n",
      "RangeIndex: 1000 entries, 0 to 999\n",
      "Data columns (total 8 columns):\n",
      "staff_id             1000 non-null int64\n",
      "first_name           999 non-null object\n",
      "last_name            999 non-null object\n",
      "gender               793 non-null category\n",
      "birth_date           999 non-null datetime64[ns]\n",
      "employment_status    811 non-null category\n",
      "annual_salary        999 non-null float64\n",
      "tax_file_no          0 non-null float64\n",
      "dtypes: category(2), datetime64[ns](1), float64(2), int64(1), object(2)\n",
      "memory usage: 49.1+ KB\n"
     ]
    },
    {
     "data": {
      "text/html": [
       "<div>\n",
       "<style scoped>\n",
       "    .dataframe tbody tr th:only-of-type {\n",
       "        vertical-align: middle;\n",
       "    }\n",
       "\n",
       "    .dataframe tbody tr th {\n",
       "        vertical-align: top;\n",
       "    }\n",
       "\n",
       "    .dataframe thead th {\n",
       "        text-align: right;\n",
       "    }\n",
       "</style>\n",
       "<table border=\"1\" class=\"dataframe\">\n",
       "  <thead>\n",
       "    <tr style=\"text-align: right;\">\n",
       "      <th></th>\n",
       "      <th>staff_id</th>\n",
       "      <th>first_name</th>\n",
       "      <th>last_name</th>\n",
       "      <th>gender</th>\n",
       "      <th>birth_date</th>\n",
       "      <th>employment_status</th>\n",
       "      <th>annual_salary</th>\n",
       "      <th>tax_file_no</th>\n",
       "    </tr>\n",
       "  </thead>\n",
       "  <tbody>\n",
       "    <tr>\n",
       "      <td>count</td>\n",
       "      <td>1000.00000</td>\n",
       "      <td>999</td>\n",
       "      <td>999</td>\n",
       "      <td>793</td>\n",
       "      <td>999</td>\n",
       "      <td>811</td>\n",
       "      <td>999.000000</td>\n",
       "      <td>0.0</td>\n",
       "    </tr>\n",
       "    <tr>\n",
       "      <td>unique</td>\n",
       "      <td>NaN</td>\n",
       "      <td>926</td>\n",
       "      <td>420</td>\n",
       "      <td>2</td>\n",
       "      <td>953</td>\n",
       "      <td>3</td>\n",
       "      <td>NaN</td>\n",
       "      <td>NaN</td>\n",
       "    </tr>\n",
       "    <tr>\n",
       "      <td>top</td>\n",
       "      <td>NaN</td>\n",
       "      <td>Elvis</td>\n",
       "      <td>Schmitt</td>\n",
       "      <td>M</td>\n",
       "      <td>1981-04-15 00:00:00</td>\n",
       "      <td>PE</td>\n",
       "      <td>NaN</td>\n",
       "      <td>NaN</td>\n",
       "    </tr>\n",
       "    <tr>\n",
       "      <td>freq</td>\n",
       "      <td>NaN</td>\n",
       "      <td>3</td>\n",
       "      <td>8</td>\n",
       "      <td>414</td>\n",
       "      <td>2</td>\n",
       "      <td>599</td>\n",
       "      <td>NaN</td>\n",
       "      <td>NaN</td>\n",
       "    </tr>\n",
       "    <tr>\n",
       "      <td>first</td>\n",
       "      <td>NaN</td>\n",
       "      <td>NaN</td>\n",
       "      <td>NaN</td>\n",
       "      <td>NaN</td>\n",
       "      <td>1970-01-05 00:00:00</td>\n",
       "      <td>NaN</td>\n",
       "      <td>NaN</td>\n",
       "      <td>NaN</td>\n",
       "    </tr>\n",
       "    <tr>\n",
       "      <td>last</td>\n",
       "      <td>NaN</td>\n",
       "      <td>NaN</td>\n",
       "      <td>NaN</td>\n",
       "      <td>NaN</td>\n",
       "      <td>1999-12-07 00:00:00</td>\n",
       "      <td>NaN</td>\n",
       "      <td>NaN</td>\n",
       "      <td>NaN</td>\n",
       "    </tr>\n",
       "    <tr>\n",
       "      <td>mean</td>\n",
       "      <td>499.50200</td>\n",
       "      <td>NaN</td>\n",
       "      <td>NaN</td>\n",
       "      <td>NaN</td>\n",
       "      <td>NaN</td>\n",
       "      <td>NaN</td>\n",
       "      <td>102017.196196</td>\n",
       "      <td>NaN</td>\n",
       "    </tr>\n",
       "    <tr>\n",
       "      <td>std</td>\n",
       "      <td>285.86318</td>\n",
       "      <td>NaN</td>\n",
       "      <td>NaN</td>\n",
       "      <td>NaN</td>\n",
       "      <td>NaN</td>\n",
       "      <td>NaN</td>\n",
       "      <td>27567.849832</td>\n",
       "      <td>NaN</td>\n",
       "    </tr>\n",
       "    <tr>\n",
       "      <td>min</td>\n",
       "      <td>1.00000</td>\n",
       "      <td>NaN</td>\n",
       "      <td>NaN</td>\n",
       "      <td>NaN</td>\n",
       "      <td>NaN</td>\n",
       "      <td>NaN</td>\n",
       "      <td>55003.000000</td>\n",
       "      <td>NaN</td>\n",
       "    </tr>\n",
       "    <tr>\n",
       "      <td>25%</td>\n",
       "      <td>250.50000</td>\n",
       "      <td>NaN</td>\n",
       "      <td>NaN</td>\n",
       "      <td>NaN</td>\n",
       "      <td>NaN</td>\n",
       "      <td>NaN</td>\n",
       "      <td>77720.000000</td>\n",
       "      <td>NaN</td>\n",
       "    </tr>\n",
       "    <tr>\n",
       "      <td>50%</td>\n",
       "      <td>492.00000</td>\n",
       "      <td>NaN</td>\n",
       "      <td>NaN</td>\n",
       "      <td>NaN</td>\n",
       "      <td>NaN</td>\n",
       "      <td>NaN</td>\n",
       "      <td>101133.000000</td>\n",
       "      <td>NaN</td>\n",
       "    </tr>\n",
       "    <tr>\n",
       "      <td>75%</td>\n",
       "      <td>750.25000</td>\n",
       "      <td>NaN</td>\n",
       "      <td>NaN</td>\n",
       "      <td>NaN</td>\n",
       "      <td>NaN</td>\n",
       "      <td>NaN</td>\n",
       "      <td>125829.000000</td>\n",
       "      <td>NaN</td>\n",
       "    </tr>\n",
       "    <tr>\n",
       "      <td>max</td>\n",
       "      <td>999.00000</td>\n",
       "      <td>NaN</td>\n",
       "      <td>NaN</td>\n",
       "      <td>NaN</td>\n",
       "      <td>NaN</td>\n",
       "      <td>NaN</td>\n",
       "      <td>149999.000000</td>\n",
       "      <td>NaN</td>\n",
       "    </tr>\n",
       "  </tbody>\n",
       "</table>\n",
       "</div>"
      ],
      "text/plain": [
       "          staff_id first_name last_name gender           birth_date  \\\n",
       "count   1000.00000        999       999    793                  999   \n",
       "unique         NaN        926       420      2                  953   \n",
       "top            NaN      Elvis   Schmitt      M  1981-04-15 00:00:00   \n",
       "freq           NaN          3         8    414                    2   \n",
       "first          NaN        NaN       NaN    NaN  1970-01-05 00:00:00   \n",
       "last           NaN        NaN       NaN    NaN  1999-12-07 00:00:00   \n",
       "mean     499.50200        NaN       NaN    NaN                  NaN   \n",
       "std      285.86318        NaN       NaN    NaN                  NaN   \n",
       "min        1.00000        NaN       NaN    NaN                  NaN   \n",
       "25%      250.50000        NaN       NaN    NaN                  NaN   \n",
       "50%      492.00000        NaN       NaN    NaN                  NaN   \n",
       "75%      750.25000        NaN       NaN    NaN                  NaN   \n",
       "max      999.00000        NaN       NaN    NaN                  NaN   \n",
       "\n",
       "       employment_status  annual_salary  tax_file_no  \n",
       "count                811     999.000000          0.0  \n",
       "unique                 3            NaN          NaN  \n",
       "top                   PE            NaN          NaN  \n",
       "freq                 599            NaN          NaN  \n",
       "first                NaN            NaN          NaN  \n",
       "last                 NaN            NaN          NaN  \n",
       "mean                 NaN  102017.196196          NaN  \n",
       "std                  NaN   27567.849832          NaN  \n",
       "min                  NaN   55003.000000          NaN  \n",
       "25%                  NaN   77720.000000          NaN  \n",
       "50%                  NaN  101133.000000          NaN  \n",
       "75%                  NaN  125829.000000          NaN  \n",
       "max                  NaN  149999.000000          NaN  "
      ]
     },
     "execution_count": 4,
     "metadata": {},
     "output_type": "execute_result"
    }
   ],
   "source": [
    "import pandas as pd\n",
    "\n",
    "# Import dataset\n",
    "df = pd.read_csv('employee_data.csv')\n",
    "\n",
    "# Cast types to save memory.\n",
    "df['gender'] = df['gender'].astype('category')\n",
    "df['employment_status'] = df['employment_status'].astype('category')\n",
    "df['birth_date'] = df['birth_date'].astype('datetime64')\n",
    "\n",
    "# Rename columns\n",
    "df.rename(columns={'number': 'staff_id'}, inplace=True)\n",
    "\n",
    "df.info()\n",
    "df.describe(include='all')"
   ]
  },
  {
   "cell_type": "code",
   "execution_count": 7,
   "metadata": {},
   "outputs": [
    {
     "data": {
      "text/plain": [
       "staff_id                0\n",
       "first_name              1\n",
       "last_name               1\n",
       "gender                207\n",
       "birth_date              1\n",
       "employment_status     189\n",
       "annual_salary           1\n",
       "tax_file_no          1000\n",
       "dtype: int64"
      ]
     },
     "execution_count": 7,
     "metadata": {},
     "output_type": "execute_result"
    }
   ],
   "source": [
    "# Show how many null values for each column\n",
    "df.isnull().sum()"
   ]
  },
  {
   "cell_type": "code",
   "execution_count": 8,
   "metadata": {},
   "outputs": [
    {
     "name": "stdout",
     "output_type": "stream",
     "text": [
      "Percentage of missing values: 17.5%\n"
     ]
    }
   ],
   "source": [
    "# Calculate the percentage of missing values as a whole\n",
    "rows, columns = df.shape\n",
    "cell_count = rows * columns\n",
    "number_of_nulls = df.isnull().sum().sum()\n",
    "percentage_of_missing = (number_of_nulls / cell_count) * 100\n",
    "print(f'Percentage of missing values: {percentage_of_missing}%')"
   ]
  },
  {
   "cell_type": "code",
   "execution_count": 9,
   "metadata": {},
   "outputs": [
    {
     "name": "stdout",
     "output_type": "stream",
     "text": [
      "<class 'pandas.core.frame.DataFrame'>\n",
      "RangeIndex: 1000 entries, 0 to 999\n",
      "Data columns (total 7 columns):\n",
      "staff_id             1000 non-null int64\n",
      "first_name           999 non-null object\n",
      "last_name            999 non-null object\n",
      "gender               793 non-null category\n",
      "birth_date           999 non-null datetime64[ns]\n",
      "employment_status    811 non-null category\n",
      "annual_salary        999 non-null float64\n",
      "dtypes: category(2), datetime64[ns](1), float64(1), int64(1), object(2)\n",
      "memory usage: 41.3+ KB\n"
     ]
    }
   ],
   "source": [
    "# Drop any columns that contain only null values.\n",
    "df.dropna(axis='columns', how='all', inplace=True)\n",
    "df.info()"
   ]
  },
  {
   "cell_type": "code",
   "execution_count": 14,
   "metadata": {},
   "outputs": [
    {
     "name": "stdout",
     "output_type": "stream",
     "text": [
      "Empty DataFrame\n",
      "Columns: [staff_id, first_name, last_name, gender, birth_date, employment_status, annual_salary]\n",
      "Index: []\n"
     ]
    }
   ],
   "source": [
    "# Check to see if any rows have less than 2 elements.\n",
    "under_threshold_removed = df.dropna(axis='index', thresh=2, inplace=False)\n",
    "under_threshold_rows = df[~df.index.isin(under_threshold_removed.index)]\n",
    "print(under_threshold_rows)"
   ]
  },
  {
   "cell_type": "code",
   "execution_count": 12,
   "metadata": {},
   "outputs": [
    {
     "name": "stdout",
     "output_type": "stream",
     "text": [
      "<class 'pandas.core.frame.DataFrame'>\n",
      "Int64Index: 999 entries, 0 to 999\n",
      "Data columns (total 7 columns):\n",
      "staff_id             999 non-null int64\n",
      "first_name           999 non-null object\n",
      "last_name            999 non-null object\n",
      "gender               793 non-null category\n",
      "birth_date           999 non-null datetime64[ns]\n",
      "employment_status    811 non-null category\n",
      "annual_salary        999 non-null float64\n",
      "dtypes: category(2), datetime64[ns](1), float64(1), int64(1), object(2)\n",
      "memory usage: 49.0+ KB\n"
     ]
    }
   ],
   "source": [
    "# Drop rows with less than two elements.\n",
    "df.dropna(axis='index', thresh=2, inplace=True)\n",
    "df.info()"
   ]
  },
  {
   "cell_type": "code",
   "execution_count": 15,
   "metadata": {},
   "outputs": [
    {
     "name": "stdout",
     "output_type": "stream",
     "text": [
      "M    414\n",
      "F    379\n",
      "U    206\n",
      "Name: gender, dtype: int64\n"
     ]
    }
   ],
   "source": [
    "# Set a default category for missing genders.\n",
    "df['gender'].cat.add_categories(new_categories=['U'], inplace=True)\n",
    "df.fillna(value={'gender': 'U'}, inplace=True)\n",
    "print(df['gender'].value_counts())\n",
    "df.reset_index(inplace=True)    "
   ]
  },
  {
   "cell_type": "code",
   "execution_count": 16,
   "metadata": {},
   "outputs": [
    {
     "data": {
      "text/plain": [
       "Male       414\n",
       "Female     379\n",
       "Unknown    206\n",
       "Name: gender, dtype: int64"
      ]
     },
     "execution_count": 16,
     "metadata": {},
     "output_type": "execute_result"
    }
   ],
   "source": [
    "# Renaming DataFrame categories.\n",
    "df['gender'].cat.rename_categories(new_categories={'M': 'Male', 'F': 'Female', 'U': 'Unknown'},\n",
    "                                       inplace=True)\n",
    "df['gender'].value_counts()"
   ]
  },
  {
   "cell_type": "markdown",
   "metadata": {},
   "source": [
    "### 4. How do you use pandas to make a data frame out of n-dimensional arrays ?"
   ]
  },
  {
   "cell_type": "code",
   "execution_count": 28,
   "metadata": {},
   "outputs": [],
   "source": [
    "import pandas as pd\n",
    "import numpy as np\n",
    "\n",
    "np.random.seed(1618033)\n",
    "\n",
    "# Set 3 axes dimensions\n",
    "years = np.arange(2000,2010) #Years\n",
    "samples = np.arange(0,20) #Samples\n",
    "patients = np.array([\"patient_%d\" % i for i in range(0,3)]) #Patients\n",
    "\n",
    "#Create random 3D array to simulate data from dims above\n",
    "A_3D = np.random.random((years.size, samples.size, len(patients))) #(10, 20, 3)\n",
    "\n",
    "# Create the MultiIndex from years, samples and patients.\n",
    "midx = pd.MultiIndex.from_product([years, samples, patients])\n",
    "\n",
    "# Create sample data for each patient, and add the MultiIndex.\n",
    "patient_data = pd.DataFrame(np.random.randn(len(midx), 3), index = midx)"
   ]
  },
  {
   "cell_type": "code",
   "execution_count": 29,
   "metadata": {},
   "outputs": [
    {
     "data": {
      "text/html": [
       "<div>\n",
       "<style scoped>\n",
       "    .dataframe tbody tr th:only-of-type {\n",
       "        vertical-align: middle;\n",
       "    }\n",
       "\n",
       "    .dataframe tbody tr th {\n",
       "        vertical-align: top;\n",
       "    }\n",
       "\n",
       "    .dataframe thead th {\n",
       "        text-align: right;\n",
       "    }\n",
       "</style>\n",
       "<table border=\"1\" class=\"dataframe\">\n",
       "  <thead>\n",
       "    <tr style=\"text-align: right;\">\n",
       "      <th></th>\n",
       "      <th></th>\n",
       "      <th></th>\n",
       "      <th>0</th>\n",
       "      <th>1</th>\n",
       "      <th>2</th>\n",
       "    </tr>\n",
       "  </thead>\n",
       "  <tbody>\n",
       "    <tr>\n",
       "      <td rowspan=\"5\" valign=\"top\">2000</td>\n",
       "      <td rowspan=\"3\" valign=\"top\">0</td>\n",
       "      <td>patient_0</td>\n",
       "      <td>0.733891</td>\n",
       "      <td>-1.081459</td>\n",
       "      <td>1.344767</td>\n",
       "    </tr>\n",
       "    <tr>\n",
       "      <td>patient_1</td>\n",
       "      <td>0.183899</td>\n",
       "      <td>0.367003</td>\n",
       "      <td>-1.043212</td>\n",
       "    </tr>\n",
       "    <tr>\n",
       "      <td>patient_2</td>\n",
       "      <td>-0.233493</td>\n",
       "      <td>0.424136</td>\n",
       "      <td>0.035358</td>\n",
       "    </tr>\n",
       "    <tr>\n",
       "      <td rowspan=\"2\" valign=\"top\">1</td>\n",
       "      <td>patient_0</td>\n",
       "      <td>1.764374</td>\n",
       "      <td>3.095941</td>\n",
       "      <td>1.680118</td>\n",
       "    </tr>\n",
       "    <tr>\n",
       "      <td>patient_1</td>\n",
       "      <td>-0.146588</td>\n",
       "      <td>1.167771</td>\n",
       "      <td>0.218991</td>\n",
       "    </tr>\n",
       "  </tbody>\n",
       "</table>\n",
       "</div>"
      ],
      "text/plain": [
       "                         0         1         2\n",
       "2000 0 patient_0  0.733891 -1.081459  1.344767\n",
       "       patient_1  0.183899  0.367003 -1.043212\n",
       "       patient_2 -0.233493  0.424136  0.035358\n",
       "     1 patient_0  1.764374  3.095941  1.680118\n",
       "       patient_1 -0.146588  1.167771  0.218991"
      ]
     },
     "execution_count": 29,
     "metadata": {},
     "output_type": "execute_result"
    }
   ],
   "source": [
    "patient_data.head()"
   ]
  },
  {
   "cell_type": "code",
   "execution_count": 30,
   "metadata": {},
   "outputs": [
    {
     "data": {
      "text/html": [
       "<div>\n",
       "<style scoped>\n",
       "    .dataframe tbody tr th:only-of-type {\n",
       "        vertical-align: middle;\n",
       "    }\n",
       "\n",
       "    .dataframe tbody tr th {\n",
       "        vertical-align: top;\n",
       "    }\n",
       "\n",
       "    .dataframe thead tr th {\n",
       "        text-align: left;\n",
       "    }\n",
       "</style>\n",
       "<table border=\"1\" class=\"dataframe\">\n",
       "  <thead>\n",
       "    <tr>\n",
       "      <th></th>\n",
       "      <th></th>\n",
       "      <th colspan=\"10\" halign=\"left\">0</th>\n",
       "      <th>...</th>\n",
       "      <th colspan=\"10\" halign=\"left\">2</th>\n",
       "    </tr>\n",
       "    <tr>\n",
       "      <th></th>\n",
       "      <th></th>\n",
       "      <th>2000</th>\n",
       "      <th>2001</th>\n",
       "      <th>2002</th>\n",
       "      <th>2003</th>\n",
       "      <th>2004</th>\n",
       "      <th>2005</th>\n",
       "      <th>2006</th>\n",
       "      <th>2007</th>\n",
       "      <th>2008</th>\n",
       "      <th>2009</th>\n",
       "      <th>...</th>\n",
       "      <th>2000</th>\n",
       "      <th>2001</th>\n",
       "      <th>2002</th>\n",
       "      <th>2003</th>\n",
       "      <th>2004</th>\n",
       "      <th>2005</th>\n",
       "      <th>2006</th>\n",
       "      <th>2007</th>\n",
       "      <th>2008</th>\n",
       "      <th>2009</th>\n",
       "    </tr>\n",
       "  </thead>\n",
       "  <tbody>\n",
       "    <tr>\n",
       "      <td rowspan=\"3\" valign=\"top\">0</td>\n",
       "      <td>patient_0</td>\n",
       "      <td>0.733891</td>\n",
       "      <td>0.313232</td>\n",
       "      <td>-0.383357</td>\n",
       "      <td>1.750069</td>\n",
       "      <td>-1.055323</td>\n",
       "      <td>0.038683</td>\n",
       "      <td>-0.795319</td>\n",
       "      <td>0.866563</td>\n",
       "      <td>-0.072328</td>\n",
       "      <td>-0.761547</td>\n",
       "      <td>...</td>\n",
       "      <td>1.344767</td>\n",
       "      <td>0.639748</td>\n",
       "      <td>0.452344</td>\n",
       "      <td>0.745117</td>\n",
       "      <td>-1.557094</td>\n",
       "      <td>-0.809781</td>\n",
       "      <td>-0.506905</td>\n",
       "      <td>-0.871313</td>\n",
       "      <td>1.425371</td>\n",
       "      <td>-0.589768</td>\n",
       "    </tr>\n",
       "    <tr>\n",
       "      <td>patient_1</td>\n",
       "      <td>0.183899</td>\n",
       "      <td>0.130183</td>\n",
       "      <td>-2.402050</td>\n",
       "      <td>-0.195703</td>\n",
       "      <td>-1.295543</td>\n",
       "      <td>0.179823</td>\n",
       "      <td>-0.256294</td>\n",
       "      <td>-0.138591</td>\n",
       "      <td>0.401505</td>\n",
       "      <td>0.941614</td>\n",
       "      <td>...</td>\n",
       "      <td>-1.043212</td>\n",
       "      <td>1.291971</td>\n",
       "      <td>0.581809</td>\n",
       "      <td>-0.239743</td>\n",
       "      <td>-0.295652</td>\n",
       "      <td>0.743647</td>\n",
       "      <td>-0.777149</td>\n",
       "      <td>-1.168015</td>\n",
       "      <td>0.503152</td>\n",
       "      <td>-0.060225</td>\n",
       "    </tr>\n",
       "    <tr>\n",
       "      <td>patient_2</td>\n",
       "      <td>-0.233493</td>\n",
       "      <td>1.069902</td>\n",
       "      <td>-0.414003</td>\n",
       "      <td>-0.331743</td>\n",
       "      <td>-0.148233</td>\n",
       "      <td>-0.816054</td>\n",
       "      <td>-1.169933</td>\n",
       "      <td>0.485801</td>\n",
       "      <td>0.506001</td>\n",
       "      <td>0.994103</td>\n",
       "      <td>...</td>\n",
       "      <td>0.035358</td>\n",
       "      <td>0.711121</td>\n",
       "      <td>1.532766</td>\n",
       "      <td>0.785486</td>\n",
       "      <td>-0.347170</td>\n",
       "      <td>-1.143815</td>\n",
       "      <td>-1.146629</td>\n",
       "      <td>-0.393508</td>\n",
       "      <td>-0.648646</td>\n",
       "      <td>-0.614766</td>\n",
       "    </tr>\n",
       "    <tr>\n",
       "      <td rowspan=\"2\" valign=\"top\">1</td>\n",
       "      <td>patient_0</td>\n",
       "      <td>1.764374</td>\n",
       "      <td>0.706257</td>\n",
       "      <td>-0.141564</td>\n",
       "      <td>1.134810</td>\n",
       "      <td>1.412329</td>\n",
       "      <td>0.094802</td>\n",
       "      <td>-0.129987</td>\n",
       "      <td>-0.721118</td>\n",
       "      <td>-1.105769</td>\n",
       "      <td>-0.387461</td>\n",
       "      <td>...</td>\n",
       "      <td>1.680118</td>\n",
       "      <td>-0.215912</td>\n",
       "      <td>-0.881041</td>\n",
       "      <td>0.003546</td>\n",
       "      <td>0.718917</td>\n",
       "      <td>-0.101255</td>\n",
       "      <td>0.613290</td>\n",
       "      <td>0.870485</td>\n",
       "      <td>-0.871202</td>\n",
       "      <td>-0.883699</td>\n",
       "    </tr>\n",
       "    <tr>\n",
       "      <td>patient_1</td>\n",
       "      <td>-0.146588</td>\n",
       "      <td>-0.396285</td>\n",
       "      <td>-0.050046</td>\n",
       "      <td>0.492005</td>\n",
       "      <td>0.078164</td>\n",
       "      <td>-2.426065</td>\n",
       "      <td>1.710801</td>\n",
       "      <td>0.130949</td>\n",
       "      <td>1.059029</td>\n",
       "      <td>0.570667</td>\n",
       "      <td>...</td>\n",
       "      <td>0.218991</td>\n",
       "      <td>-0.352376</td>\n",
       "      <td>-0.082334</td>\n",
       "      <td>0.033250</td>\n",
       "      <td>0.261488</td>\n",
       "      <td>0.808276</td>\n",
       "      <td>1.909453</td>\n",
       "      <td>-0.560593</td>\n",
       "      <td>0.647894</td>\n",
       "      <td>-0.454246</td>\n",
       "    </tr>\n",
       "  </tbody>\n",
       "</table>\n",
       "<p>5 rows × 30 columns</p>\n",
       "</div>"
      ],
      "text/plain": [
       "                    0                                                    \\\n",
       "                 2000      2001      2002      2003      2004      2005   \n",
       "0 patient_0  0.733891  0.313232 -0.383357  1.750069 -1.055323  0.038683   \n",
       "  patient_1  0.183899  0.130183 -2.402050 -0.195703 -1.295543  0.179823   \n",
       "  patient_2 -0.233493  1.069902 -0.414003 -0.331743 -0.148233 -0.816054   \n",
       "1 patient_0  1.764374  0.706257 -0.141564  1.134810  1.412329  0.094802   \n",
       "  patient_1 -0.146588 -0.396285 -0.050046  0.492005  0.078164 -2.426065   \n",
       "\n",
       "                                                     ...         2            \\\n",
       "                 2006      2007      2008      2009  ...      2000      2001   \n",
       "0 patient_0 -0.795319  0.866563 -0.072328 -0.761547  ...  1.344767  0.639748   \n",
       "  patient_1 -0.256294 -0.138591  0.401505  0.941614  ... -1.043212  1.291971   \n",
       "  patient_2 -1.169933  0.485801  0.506001  0.994103  ...  0.035358  0.711121   \n",
       "1 patient_0 -0.129987 -0.721118 -1.105769 -0.387461  ...  1.680118 -0.215912   \n",
       "  patient_1  1.710801  0.130949  1.059029  0.570667  ...  0.218991 -0.352376   \n",
       "\n",
       "                                                                         \\\n",
       "                 2002      2003      2004      2005      2006      2007   \n",
       "0 patient_0  0.452344  0.745117 -1.557094 -0.809781 -0.506905 -0.871313   \n",
       "  patient_1  0.581809 -0.239743 -0.295652  0.743647 -0.777149 -1.168015   \n",
       "  patient_2  1.532766  0.785486 -0.347170 -1.143815 -1.146629 -0.393508   \n",
       "1 patient_0 -0.881041  0.003546  0.718917 -0.101255  0.613290  0.870485   \n",
       "  patient_1 -0.082334  0.033250  0.261488  0.808276  1.909453 -0.560593   \n",
       "\n",
       "                                 \n",
       "                 2008      2009  \n",
       "0 patient_0  1.425371 -0.589768  \n",
       "  patient_1  0.503152 -0.060225  \n",
       "  patient_2 -0.648646 -0.614766  \n",
       "1 patient_0 -0.871202 -0.883699  \n",
       "  patient_1  0.647894 -0.454246  \n",
       "\n",
       "[5 rows x 30 columns]"
      ]
     },
     "execution_count": 30,
     "metadata": {},
     "output_type": "execute_result"
    }
   ],
   "source": [
    "patient_data.unstack(level=0).head()"
   ]
  },
  {
   "cell_type": "markdown",
   "metadata": {},
   "source": [
    "### 5. Explain the notion of pandas plotting ?"
   ]
  },
  {
   "cell_type": "code",
   "execution_count": 17,
   "metadata": {},
   "outputs": [
    {
     "name": "stdout",
     "output_type": "stream",
     "text": [
      "        Tutor  Course  Duration_Months\n",
      "0       Krish     210                6\n",
      "1  Sourangshu     211                3\n",
      "2   Sudhanshu     114                9\n",
      "3      Avnish     178                2\n"
     ]
    },
    {
     "data": {
      "image/png": "[encoded data removed]",
      "text/plain": [
       "<Figure size 432x288 with 1 Axes>"
      ]
     },
     "metadata": {
      "needs_background": "light"
     },
     "output_type": "display_data"
    }
   ],
   "source": [
    "# Bar Plot\n",
    "import pandas as pd\n",
    "import matplotlib.pyplot as plt\n",
    "\n",
    "tutor = ['Krish', 'Sourangshu', 'Sudhanshu', 'Avnish']\n",
    "course = [210, 211, 114, 178]\n",
    "\n",
    "tutor_neuron = pd.Series(tutor)\n",
    "course_series = pd.Series(course)\n",
    "\n",
    "frame = {'Tutor': tutor_neuron, 'Course': course_series}\n",
    "\n",
    "result = pd.DataFrame(frame)\n",
    "duration = [6, 3, 9, 2]\n",
    "result['Duration_Months'] = pd.Series(duration)\n",
    "\n",
    "print(result)\n",
    "\n",
    "result.plot.bar()\n",
    "plt.show()"
   ]
  },
  {
   "cell_type": "code",
   "execution_count": 19,
   "metadata": {},
   "outputs": [
    {
     "data": {
      "image/png": "[encoded data removed]",
      "text/plain": [
       "<Figure size 432x288 with 1 Axes>"
      ]
     },
     "metadata": {
      "needs_background": "light"
     },
     "output_type": "display_data"
    }
   ],
   "source": [
    "# import libraries\n",
    "import matplotlib.pyplot as plt\n",
    "import pandas as pd\n",
    "import numpy as np\n",
    "\n",
    "ts = pd.Series(np.random.randn(1000), index = pd.date_range('1/1/2000', periods = 1000))\n",
    "ts = ts.cumsum()\n",
    "ts.plot()\n",
    "\n",
    "plt.show()"
   ]
  },
  {
   "cell_type": "code",
   "execution_count": 21,
   "metadata": {},
   "outputs": [
    {
     "data": {
      "text/plain": [
       "<Figure size 432x288 with 0 Axes>"
      ]
     },
     "metadata": {},
     "output_type": "display_data"
    },
    {
     "data": {
      "image/png": "[encoded data removed]",
      "text/plain": [
       "<Figure size 432x288 with 1 Axes>"
      ]
     },
     "metadata": {
      "needs_background": "light"
     },
     "output_type": "display_data"
    }
   ],
   "source": [
    "# importing libraries\n",
    "import matplotlib.pyplot as plt\n",
    "import pandas as pd\n",
    "import numpy as np\n",
    "\n",
    "ts = pd.Series(np.random.randn(1000), index = pd.date_range('1/1/2000', periods = 1000))\n",
    "\n",
    "df = pd.DataFrame(np.random.randn(1000, 4),\n",
    "index = ts.index, columns = list('ABCD'))\n",
    "\n",
    "df = df.cumsum()\n",
    "plt.figure()\n",
    "df.plot()\n",
    "plt.show()"
   ]
  },
  {
   "cell_type": "code",
   "execution_count": 23,
   "metadata": {},
   "outputs": [
    {
     "data": {
      "text/plain": [
       "<Figure size 432x288 with 0 Axes>"
      ]
     },
     "metadata": {},
     "output_type": "display_data"
    },
    {
     "data": {
      "image/png": "[encoded data removed]",
      "text/plain": [
       "<Figure size 432x288 with 1 Axes>"
      ]
     },
     "metadata": {
      "needs_background": "light"
     },
     "output_type": "display_data"
    }
   ],
   "source": [
    "# Histograms\n",
    "import matplotlib.pyplot as plt\n",
    "import pandas as pd\n",
    "import numpy as np\n",
    "\n",
    "df4 = pd.DataFrame({'a': np.random.randn(1000) + 1, 'b': np.random.randn(1000), 'c': np.random.randn(1000) - 1}, columns =['a', 'b', 'c'])\n",
    "plt.figure()\n",
    "\n",
    "df4.plot.hist(alpha = 0.5)\n",
    "plt.show()"
   ]
  },
  {
   "cell_type": "code",
   "execution_count": 24,
   "metadata": {},
   "outputs": [
    {
     "data": {
      "image/png": "[encoded data removed]",
      "text/plain": [
       "<Figure size 432x288 with 1 Axes>"
      ]
     },
     "metadata": {
      "needs_background": "light"
     },
     "output_type": "display_data"
    }
   ],
   "source": [
    "# Box Plot\n",
    "import matplotlib.pyplot as plt\n",
    "import pandas as pd\n",
    "import numpy as np\n",
    "\n",
    "df = pd.DataFrame(np.random.rand(10, 5), columns =['A', 'B', 'C', 'D', 'E'])\n",
    "\n",
    "df.plot.box()\n",
    "plt.show()"
   ]
  },
  {
   "cell_type": "code",
   "execution_count": 25,
   "metadata": {},
   "outputs": [
    {
     "data": {
      "image/png": "[encoded data removed]",
      "text/plain": [
       "<Figure size 432x288 with 1 Axes>"
      ]
     },
     "metadata": {
      "needs_background": "light"
     },
     "output_type": "display_data"
    }
   ],
   "source": [
    "# Density Plot\n",
    "import matplotlib.pyplot as plt\n",
    "import pandas as pd\n",
    "import numpy as np\n",
    "\n",
    "df = pd.DataFrame(np.random.rand(10, 5), columns =['A', 'B', 'C', 'D', 'E'])\n",
    "\n",
    "ser = pd.Series(np.random.randn(1000))\n",
    "ser.plot.kde()\n",
    "\n",
    "plt.show()"
   ]
  },
  {
   "cell_type": "code",
   "execution_count": 26,
   "metadata": {},
   "outputs": [
    {
     "data": {
      "image/png": "[encoded data removed]",
      "text/plain": [
       "<Figure size 288x288 with 1 Axes>"
      ]
     },
     "metadata": {},
     "output_type": "display_data"
    }
   ],
   "source": [
    "# Pie Plot\n",
    "import matplotlib.pyplot as plt\n",
    "import pandas as pd\n",
    "import numpy as np\n",
    "\n",
    "series = pd.Series(3 * np.random.rand(4),\n",
    "index =['a', 'b', 'c', 'd'], name ='series')\n",
    "\n",
    "series.plot.pie(figsize =(4, 4))\n",
    "plt.show()"
   ]
  },
  {
   "cell_type": "code",
   "execution_count": 27,
   "metadata": {},
   "outputs": [
    {
     "data": {
      "image/png": "[encoded data removed]",
      "text/plain": [
       "<Figure size 432x288 with 1 Axes>"
      ]
     },
     "metadata": {
      "needs_background": "light"
     },
     "output_type": "display_data"
    }
   ],
   "source": [
    "# Scatter Plot\n",
    "import matplotlib.pyplot as plt\n",
    "import pandas as pd\n",
    "import numpy as np\n",
    "\n",
    "df = pd.DataFrame(np.random.rand(500, 4), columns =['a', 'b', 'c', 'd'])\n",
    "\n",
    "df.plot.scatter(x ='a', y ='b')\n",
    "plt.show()"
   ]
  }
 ],
 "metadata": {
  "kernelspec": {
   "display_name": "Python 3",
   "language": "python",
   "name": "python3"
  },
  "language_info": {
   "codemirror_mode": {
    "name": "ipython",
    "version": 3
   },
   "file_extension": ".py",
   "mimetype": "text/x-python",
   "name": "python",
   "nbconvert_exporter": "python",
   "pygments_lexer": "ipython3",
   "version": "3.6.4"
  }
 },
 "nbformat": 4,
 "nbformat_minor": 2
}
