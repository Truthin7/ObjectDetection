{
 "cells": [
  {
   "cell_type": "markdown",
   "metadata": {},
   "source": [
    "### 1. What makes NumPy.shape() different from NumPy.size() ?"
   ]
  },
  {
   "cell_type": "markdown",
   "metadata": {},
   "source": [
    "1. numpy.shape() --> Function returns the shape of an array. Shape means (Row X Columns X Dimension) that is the number of elements in each                      dimension. \n",
    "2. numpy.size() --> Function count the number of elements along a given axes in which rows and columns are being treated as                         elements. By default, counts the total number of elements in an array."
   ]
  },
  {
   "cell_type": "code",
   "execution_count": 10,
   "metadata": {},
   "outputs": [
    {
     "name": "stdout",
     "output_type": "stream",
     "text": [
      "(2, 4)\n",
      "8\n",
      "2\n",
      "4\n",
      "----******************----\n",
      "(2, 2, 2)\n",
      "8\n",
      "2\n",
      "2\n",
      "----******************----\n",
      "(2, 2, 3)\n",
      "12\n",
      "2\n",
      "2\n"
     ]
    }
   ],
   "source": [
    "import numpy as np\n",
    "\n",
    "# 1-d array\n",
    "arr = np.array([[1, 2, 3, 4], [5, 6, 7, 8]])\n",
    "\n",
    "# numpy.shape() -->\n",
    "print(np.shape(arr))\n",
    "\n",
    "# numpy.size() -->\n",
    "\n",
    "# By default gives total number of elements in the array\n",
    "print(np.size(arr))\n",
    "# 0 corresponds to Number of rows along x-axis\n",
    "print(np.size(arr, 0))\n",
    "# 1 corresponds to Number of columns along y-axis\n",
    "print(np.size(arr, 1))\n",
    "\n",
    "print('----******************----')\n",
    "\n",
    "# 2-d array\n",
    "arr1 = np.array([[[1, 2], [3, 4]], [[5, 6], [7, 8]]])\n",
    "\n",
    "print(np.shape(arr1))\n",
    "print(np.size(arr1))\n",
    "print(np.size(arr1, 0))\n",
    "print(np.size(arr1, 1))\n",
    "\n",
    "print('----******************----')\n",
    "\n",
    "# 3-d array\n",
    "arr2 = np.array([[[1, 2, 7], [3, 4, 3]], [[5, 6, 9], [7, 8, 10]]])\n",
    "\n",
    "print(np.shape(arr2))\n",
    "print(np.size(arr2))\n",
    "print(np.size(arr2, 0))\n",
    "print(np.size(arr2, 1))"
   ]
  },
  {
   "cell_type": "markdown",
   "metadata": {},
   "source": [
    "### 2. In NumPy, describe the idea of broadcasting ?"
   ]
  },
  {
   "cell_type": "markdown",
   "metadata": {},
   "source": [
    "To perform mathematical operations between arrays of different shapes numpy broadcasting is used. Broadcasting in python simply means reshaping the vector and complete the mathematical operation element-wise. "
   ]
  },
  {
   "cell_type": "code",
   "execution_count": 13,
   "metadata": {},
   "outputs": [
    {
     "name": "stdout",
     "output_type": "stream",
     "text": [
      "[[ 1.40556148  0.50999116 -0.98967655]\n",
      " [ 1.78195427  0.41347894  1.11654289]]\n",
      "(2, 3)\n",
      "***********************\n",
      "[[-0.03471081]\n",
      " [-0.65327618]]\n",
      "(2, 1)\n",
      "***********************\n",
      "[[ 1.37085067  0.47528035 -1.02438737]\n",
      " [ 1.12867809 -0.23979724  0.46326672]]\n",
      "(2, 3)\n"
     ]
    }
   ],
   "source": [
    "a = np.random.randn(2,3)\n",
    "print(a)\n",
    "print(a.shape)\n",
    "\n",
    "print('***********************')\n",
    "\n",
    "b = np.random.randn(2,1)\n",
    "print(b)\n",
    "print(b.shape)\n",
    "\n",
    "print('***********************')\n",
    "\n",
    "c = a+b\n",
    "print(c)\n",
    "print(c.shape)"
   ]
  },
  {
   "cell_type": "markdown",
   "metadata": {},
   "source": [
    "This is broadcasting, where b (2, 1) column vector is copied three times (2, 3) so that it can be summed to each column of a."
   ]
  },
  {
   "cell_type": "code",
   "execution_count": 14,
   "metadata": {},
   "outputs": [
    {
     "name": "stdout",
     "output_type": "stream",
     "text": [
      "[[-1.73059692  0.41880047 -0.76126088]\n",
      " [-0.42576705 -0.47801797 -0.11841531]\n",
      " [-0.0456759  -0.38737266 -0.40423731]\n",
      " [-0.41854442 -0.98299125 -1.70282992]]\n",
      "(4, 3)\n",
      "***********************\n",
      "[[ 0.71990321 -0.96114051]\n",
      " [-0.06636599 -0.76704147]\n",
      " [ 1.68143824 -1.71249278]]\n",
      "(3, 2)\n",
      "***********************\n"
     ]
    },
    {
     "ename": "ValueError",
     "evalue": "operands could not be broadcast together with shapes (4,3) (3,2) ",
     "output_type": "error",
     "traceback": [
      "\u001b[1;31m---------------------------------------------------------------------------\u001b[0m",
      "\u001b[1;31mValueError\u001b[0m                                Traceback (most recent call last)",
      "\u001b[1;32m<ipython-input-14-8c309ed66874>\u001b[0m in \u001b[0;36m<module>\u001b[1;34m()\u001b[0m\n\u001b[0;32m     11\u001b[0m \u001b[0mprint\u001b[0m\u001b[1;33m(\u001b[0m\u001b[1;34m'***********************'\u001b[0m\u001b[1;33m)\u001b[0m\u001b[1;33m\u001b[0m\u001b[0m\n\u001b[0;32m     12\u001b[0m \u001b[1;33m\u001b[0m\u001b[0m\n\u001b[1;32m---> 13\u001b[1;33m \u001b[0mc\u001b[0m \u001b[1;33m=\u001b[0m \u001b[0ma\u001b[0m\u001b[1;33m*\u001b[0m\u001b[0mb\u001b[0m\u001b[1;33m\u001b[0m\u001b[0m\n\u001b[0m\u001b[0;32m     14\u001b[0m \u001b[0mprint\u001b[0m\u001b[1;33m(\u001b[0m\u001b[0mc\u001b[0m\u001b[1;33m)\u001b[0m\u001b[1;33m\u001b[0m\u001b[0m\n\u001b[0;32m     15\u001b[0m \u001b[0mprint\u001b[0m\u001b[1;33m(\u001b[0m\u001b[0mc\u001b[0m\u001b[1;33m.\u001b[0m\u001b[0mshape\u001b[0m\u001b[1;33m)\u001b[0m\u001b[1;33m\u001b[0m\u001b[0m\n",
      "\u001b[1;31mValueError\u001b[0m: operands could not be broadcast together with shapes (4,3) (3,2) "
     ]
    }
   ],
   "source": [
    "a = np.random.randn(4,3)\n",
    "print(a)\n",
    "print(a.shape)\n",
    "\n",
    "print('***********************')\n",
    "\n",
    "b = np.random.randn(3,2)\n",
    "print(b)\n",
    "print(b.shape)\n",
    "\n",
    "print('***********************')\n",
    "\n",
    "c = a*b\n",
    "print(c)\n",
    "print(c.shape)"
   ]
  },
  {
   "cell_type": "markdown",
   "metadata": {},
   "source": [
    "In numpy the '*' operator indicates element-wise multiplication. Here , the broadcasting does not happen because of the shape of 'b' vector. 'b' should have been something like (4,1) or (1,3). In the above case the computation cannto happen because the sizes does not match. It's going to be 'ERROR'.\n",
    "\n",
    "np.dot(a,b) performs a Matrix-Matrix Multiplication.\n",
    "\n",
    "a*b or np.multiply() performs Element-wise Multiplication."
   ]
  },
  {
   "cell_type": "code",
   "execution_count": 15,
   "metadata": {},
   "outputs": [
    {
     "name": "stdout",
     "output_type": "stream",
     "text": [
      "[[ 1.7534319  -0.88385034 -0.82143967]\n",
      " [-0.83606438  1.6192847  -2.31091266]\n",
      " [ 0.14740662  0.88092028 -0.35276315]\n",
      " [ 0.70171484  0.08423218 -2.42325675]]\n",
      "(4, 3)\n",
      "***********************\n",
      "[[-1.45210142]\n",
      " [ 1.73631299]\n",
      " [-1.49471146]\n",
      " [ 0.23450085]]\n",
      "(4, 1)\n",
      "***********************\n",
      "[[-2.54616096  1.28344033  1.19281371]\n",
      " [-1.45166945  2.81158506 -4.01246769]\n",
      " [-0.22033037 -1.31672164  0.52727913]\n",
      " [ 0.16455272  0.01975252 -0.56825576]]\n",
      "(4, 3)\n"
     ]
    }
   ],
   "source": [
    "a = np.random.randn(4,3)\n",
    "print(a)\n",
    "print(a.shape)\n",
    "\n",
    "print('***********************')\n",
    "\n",
    "b = np.random.randn(4,1)\n",
    "print(b)\n",
    "print(b.shape)\n",
    "\n",
    "print('***********************')\n",
    "\n",
    "c = a*b\n",
    "print(c)\n",
    "print(c.shape)"
   ]
  },
  {
   "cell_type": "code",
   "execution_count": 16,
   "metadata": {},
   "outputs": [
    {
     "name": "stdout",
     "output_type": "stream",
     "text": [
      "[[-1.12153935  0.24648958 -0.92948118]\n",
      " [-0.25188437 -0.48472242 -1.64703969]\n",
      " [-1.10927438  0.52444037  0.11107015]\n",
      " [ 0.07342198  2.34348204  0.31716219]]\n",
      "(4, 3)\n",
      "***********************\n",
      "[[-1.12411395  1.30959542 -0.95207102]]\n",
      "(1, 3)\n",
      "***********************\n",
      "[[ 1.26073804  0.32280162  0.88493209]\n",
      " [ 0.28314674 -0.63479027  1.56809876]\n",
      " [ 1.24695081  0.6868047  -0.10574667]\n",
      " [-0.08253468  3.06901335 -0.30196093]]\n",
      "(4, 3)\n"
     ]
    }
   ],
   "source": [
    "a = np.random.randn(4,3)\n",
    "print(a)\n",
    "print(a.shape)\n",
    "\n",
    "print('***********************')\n",
    "\n",
    "b = np.random.randn(1,3)\n",
    "print(b)\n",
    "print(b.shape)\n",
    "\n",
    "print('***********************')\n",
    "\n",
    "c = a*b\n",
    "print(c)\n",
    "print(c.shape)"
   ]
  },
  {
   "cell_type": "markdown",
   "metadata": {},
   "source": [
    "### 3. What makes Python better than other libraries for numerical computation ?"
   ]
  },
  {
   "cell_type": "markdown",
   "metadata": {},
   "source": [
    "There is an extension of Python, commonly called Numerical Python (NumPy), which offers efficient array computations. \n",
    "Numerical Python has a fixed-size, homogeneous (fixed-type), multi-dimensional array type and lots of functions for various array operations. \n",
    "In deep learning we mostly use matrices and vectors therefore numpy is more useful. The data structures we use in numpy to represent these shapes like matrices and vectors are called as Numpy arrays.\n",
    "NumPy provides optimized data structures and basic routines for manipulating multidimensional numerical data.\n",
    "NumPy underlies many other numeric and algorithm libraries available for Python, such as: SciPy, matplotlib, pandas, OpenCV’s Python API, and more.\n",
    "\n",
    "Ndarray – the basic NumPy data type:\n",
    "1. NumPy ndarray’s are: Typed, Fixed size, Fixed dimensionality\n",
    "2. An ndarray can be constructed from:\n",
    "\n",
    "   a. Conversion from a Python list, set, tuple, or similar data structure\n",
    "\n",
    "   b. NumPy initialization routines\n",
    "   \n",
    "   c. Copies or computations with other ndarray’s\n",
    "   \n",
    "   d. NumPy-based functions as a return value\n",
    "\n",
    "Ndarray:\n",
    "1. Intended to store and process (mostly) numeric data\n",
    "2. Typed\n",
    "3. N-dimensions: Chosen at creation time\n",
    "4. Fixed size: Chosen at creation time\n",
    "5. Accessed with [ ] notation and integer indices"
   ]
  },
  {
   "cell_type": "markdown",
   "metadata": {},
   "source": [
    "The basic data type is a class called ndarray.\n",
    "1. The object has a data that describes the array (data type, number of dimensions, number of elements, memory format, etc.)\n",
    "2. A contiguous array in memory containing the data."
   ]
  },
  {
   "cell_type": "code",
   "execution_count": 17,
   "metadata": {},
   "outputs": [
    {
     "data": {
      "text/plain": [
       "2"
      ]
     },
     "execution_count": 17,
     "metadata": {},
     "output_type": "execute_result"
    }
   ],
   "source": [
    "import numpy as np\n",
    "y=np.array([1,2,3]) # numpy array initialization using python list\n",
    "y[1]"
   ]
  },
  {
   "cell_type": "code",
   "execution_count": 19,
   "metadata": {},
   "outputs": [
    {
     "data": {
      "text/plain": [
       "dtype('int32')"
      ]
     },
     "execution_count": 19,
     "metadata": {},
     "output_type": "execute_result"
    }
   ],
   "source": [
    "a = np.array([1,2,3])\n",
    "a.dtype"
   ]
  },
  {
   "cell_type": "code",
   "execution_count": 23,
   "metadata": {},
   "outputs": [
    {
     "data": {
      "text/plain": [
       "dtype('int8')"
      ]
     },
     "execution_count": 23,
     "metadata": {},
     "output_type": "execute_result"
    }
   ],
   "source": [
    "# data type can be assigned at creation time\n",
    "c = np.array([1,2,3], dtype='int8')\n",
    "c.dtype"
   ]
  },
  {
   "cell_type": "code",
   "execution_count": 24,
   "metadata": {},
   "outputs": [
    {
     "data": {
      "text/plain": [
       "dtype('float64')"
      ]
     },
     "execution_count": 24,
     "metadata": {},
     "output_type": "execute_result"
    }
   ],
   "source": [
    "# Conversion from one type to another is done with the astype() method\n",
    "b = a.astype('float')\n",
    "b.dtype"
   ]
  },
  {
   "cell_type": "markdown",
   "metadata": {},
   "source": [
    "Ndarray memory storage\n",
    "1. The memory allocated by an ndarray --> Storage for the data: N elements * bytes-per-element --> 4 bytes for 32-bit integers, 8 bytes for 64-bit floats (doubles), 1 byte for 8-bit characters etc.\n",
    "\n",
    "2. A small amount of memory is used to store info about the ndarray (~few dozen bytes)"
   ]
  },
  {
   "cell_type": "markdown",
   "metadata": {},
   "source": [
    "numpy.where --> numpy.where(condition, [x, y])\n",
    "1. Condition: some Boolean condition applied to an ndarray\n",
    "2. x, y: Optional variables to choose from. x is for condition == True, y is for condition == False.\n",
    "3. All three arguments must apply to ndarray’s.\n"
   ]
  },
  {
   "cell_type": "code",
   "execution_count": 29,
   "metadata": {},
   "outputs": [
    {
     "name": "stdout",
     "output_type": "stream",
     "text": [
      "[-1.  -0.5  0.   0.5  1. ]\n",
      "(array([0, 1, 2], dtype=int64),)\n",
      "[ 1.   0.5 -0.  10.  20. ]\n"
     ]
    }
   ],
   "source": [
    "a=np.linspace(-1,1,5)\n",
    "print(a)\n",
    "# Returns a TUPLE containing the INDICES where the condition is True!\n",
    "b = np.where(a <= 0)\n",
    "print(b)\n",
    "c = np.where(a <= 0, -a, 20*a)\n",
    "print(c)"
   ]
  },
  {
   "cell_type": "markdown",
   "metadata": {},
   "source": [
    "### By default operators work element-by-element"
   ]
  },
  {
   "cell_type": "code",
   "execution_count": 33,
   "metadata": {},
   "outputs": [
    {
     "name": "stdout",
     "output_type": "stream",
     "text": [
      "[0.25       0.4        0.5        0.57142857]\n",
      "<class 'numpy.ndarray'>\n",
      "[ 4 10 18 28]\n",
      "[ 5  7  9 11]\n",
      "[-3 -3 -3 -3]\n",
      "[0.25       0.4        0.5        0.57142857]\n",
      "[ 2  1  0 -1]\n"
     ]
    }
   ],
   "source": [
    "a = np.array([1,2,3,4])\n",
    "b = np.array([4,5,6,7])\n",
    "c = a / b # c is an ndarray\n",
    "print(c)\n",
    "print(type(c))\n",
    "print(a * b)\n",
    "print(a + b)\n",
    "print(a - b)\n",
    "print(a / b)\n",
    "print(-2 * a + b)"
   ]
  },
  {
   "cell_type": "markdown",
   "metadata": {},
   "source": [
    "### Vectors are applied row-by-row to matrices. The length of the vector must match the width of the row."
   ]
  },
  {
   "cell_type": "code",
   "execution_count": 34,
   "metadata": {},
   "outputs": [
    {
     "data": {
      "text/plain": [
       "array([[3, 4, 5, 6],\n",
       "       [6, 7, 8, 9],\n",
       "       [3, 3, 3, 3],\n",
       "       [4, 4, 4, 4]])"
      ]
     },
     "execution_count": 34,
     "metadata": {},
     "output_type": "execute_result"
    }
   ],
   "source": [
    "a = np.array([2,2,2,2])\n",
    "c = np.array([[1,2,3,4],\n",
    "              [4,5,6,7],\n",
    "              [1,1,1,1],\n",
    "              [2,2,2,2]])\n",
    "a + c"
   ]
  },
  {
   "cell_type": "markdown",
   "metadata": {},
   "source": [
    "### Vector/matrix multiplication can be done using the dot(), cross() functions, or @ operator"
   ]
  },
  {
   "cell_type": "code",
   "execution_count": 36,
   "metadata": {},
   "outputs": [
    {
     "name": "stdout",
     "output_type": "stream",
     "text": [
      "[[4 1]\n",
      " [2 2]]\n",
      "[[4 1]\n",
      " [2 2]]\n",
      "[ 1 -2]\n"
     ]
    }
   ],
   "source": [
    "a = np.array([[1, 0], [0, 1]])\n",
    "b = np.array([[4, 1], [2, 2]])\n",
    "print(np.dot(a, b)) \n",
    "print(a @ b)\n",
    "print(np.cross(a,b))"
   ]
  },
  {
   "cell_type": "markdown",
   "metadata": {},
   "source": [
    "### 4. How does NumPy deal with files ?"
   ]
  },
  {
   "cell_type": "markdown",
   "metadata": {},
   "source": [
    "### NumPy I/O\n",
    "1. When reading files you can use standard Python, use lists, allocate ndarrays and fill them.\n",
    "2. Or use any of NumPy’s I/O routines that will directly generate ndarrays.\n",
    "3. The best way depends on the structure of your data.\n",
    "4. If dealing with structured numeric data (tables of numbers, etc.) NumPy is easier and faster. "
   ]
  },
  {
   "cell_type": "markdown",
   "metadata": {},
   "source": [
    "### Some numpy file reading options --> .npz and .npy file formats\n",
    "1. .npy files store a single NumPY variable in a binary format.\n",
    "2. .npz files store multiple NumPy Variables in a file.\n",
    "3. h5py is a library that reads HDF5 files into ndarrays\n",
    "4. The I/O routines allow for flexible reading from a variety of text file formats\n"
   ]
  },
  {
   "cell_type": "code",
   "execution_count": 39,
   "metadata": {},
   "outputs": [
    {
     "data": {
      "text/plain": [
       "<function numpy.load>"
      ]
     },
     "execution_count": 39,
     "metadata": {},
     "output_type": "execute_result"
    }
   ],
   "source": [
    "import numpy as np\n",
    "np.save # save .npy\n",
    "np.savez # save .npz\n",
    "# ditto, with compression\n",
    "np.savez_compressed\n",
    "np.load # load .npy"
   ]
  },
  {
   "cell_type": "markdown",
   "metadata": {},
   "source": [
    "To import Text files into Numpy Arrays, we have two functions in Numpy: \n",
    "1. numpy.loadtxt( ) – Used to load text file data\n",
    "2. numpy.genfromtxt( ) – Used to load data from a text file, with missing values handled as defined.\n",
    "3. numpy.loadtxt( ) is equivalent function to numpy.genfromtxt( ) when no data is missing."
   ]
  },
  {
   "cell_type": "code",
   "execution_count": null,
   "metadata": {},
   "outputs": [],
   "source": [
    "import numpy as np\n",
    "# Text file data converted to integer data type\n",
    "File_data = np.loadtxt(\"example1.txt\", dtype=int)\n",
    "print(File_data)"
   ]
  },
  {
   "cell_type": "code",
   "execution_count": null,
   "metadata": {},
   "outputs": [],
   "source": [
    "import numpy as np\n",
    "# skipping first row\n",
    "# converting file data to string\n",
    "data = np.loadtxt(\"example2.txt\", skiprows=1, dtype='str')\n",
    "print(data)"
   ]
  },
  {
   "cell_type": "code",
   "execution_count": null,
   "metadata": {},
   "outputs": [],
   "source": [
    "import numpy as np\n",
    "Data = np.genfromtxt(\"example4.txt\", dtype=str,\n",
    "                     encoding=None, delimiter=\",\")\n",
    "print(Data)"
   ]
  },
  {
   "cell_type": "code",
   "execution_count": null,
   "metadata": {},
   "outputs": [],
   "source": [
    "import numpy as np\n",
    "# skipping last line in the file\n",
    "Data = np.genfromtxt(\"example5.txt\", dtype=str,\n",
    "                     encoding=None, skip_footer=1)\n",
    "print(Data)"
   ]
  },
  {
   "cell_type": "markdown",
   "metadata": {},
   "source": [
    "### 5. Mention the importance of NumPy.empty() "
   ]
  },
  {
   "cell_type": "markdown",
   "metadata": {},
   "source": [
    "numpy.empty(shape, dtype = float, order = ‘C’) : Return a new array of given shape and type, with random values.\n",
    "Parameters :\n",
    "\n",
    "1. shape : Number of rows\n",
    "2. order : C_contiguous or F_contiguous\n",
    "3. dtype : [optional, float(by Default)] Data type of returned array.  "
   ]
  },
  {
   "cell_type": "code",
   "execution_count": 40,
   "metadata": {},
   "outputs": [
    {
     "name": "stdout",
     "output_type": "stream",
     "text": [
      "Matrix b : \n",
      " [ 1 -2]\n",
      "\n",
      "Matrix a : \n",
      " [[4 1]\n",
      " [2 2]]\n",
      "\n",
      "Matrix c : \n",
      " [[6.52e-322 0.00e+000 0.00e+000]\n",
      " [0.00e+000 0.00e+000 5.12e-321]\n",
      " [0.00e+000 0.00e+000 1.98e-323]]\n"
     ]
    }
   ],
   "source": [
    "# Python Programming illustrating\n",
    "# numpy.empty() method\n",
    "\n",
    "import numpy as np\n",
    "\n",
    "b = np.empty(2, dtype = int)\n",
    "print(\"Matrix b : \\n\", b)\n",
    "\n",
    "a = np.empty([2, 2], dtype = int)\n",
    "print(\"\\nMatrix a : \\n\", a)\n",
    "\n",
    "c = np.empty([3, 3])\n",
    "print(\"\\nMatrix c : \\n\", c)"
   ]
  },
  {
   "cell_type": "markdown",
   "metadata": {},
   "source": [
    "empty, unlike zeros, does not set the array values to zero, and may therefore be marginally faster."
   ]
  }
 ],
 "metadata": {
  "kernelspec": {
   "display_name": "Python 3",
   "language": "python",
   "name": "python3"
  },
  "language_info": {
   "codemirror_mode": {
    "name": "ipython",
    "version": 3
   },
   "file_extension": ".py",
   "mimetype": "text/x-python",
   "name": "python",
   "nbconvert_exporter": "python",
   "pygments_lexer": "ipython3",
   "version": "3.6.4"
  }
 },
 "nbformat": 4,
 "nbformat_minor": 2
}
